{
 "cells": [
  {
   "cell_type": "code",
   "execution_count": 1,
   "id": "b0cf0e70",
   "metadata": {},
   "outputs": [
    {
     "data": {
      "text/html": [
       "<div>\n",
       "<style scoped>\n",
       "    .dataframe tbody tr th:only-of-type {\n",
       "        vertical-align: middle;\n",
       "    }\n",
       "\n",
       "    .dataframe tbody tr th {\n",
       "        vertical-align: top;\n",
       "    }\n",
       "\n",
       "    .dataframe thead th {\n",
       "        text-align: right;\n",
       "    }\n",
       "</style>\n",
       "<table border=\"1\" class=\"dataframe\">\n",
       "  <thead>\n",
       "    <tr style=\"text-align: right;\">\n",
       "      <th></th>\n",
       "      <th>Date</th>\n",
       "      <th>Open</th>\n",
       "      <th>High</th>\n",
       "      <th>Low</th>\n",
       "      <th>Close</th>\n",
       "      <th>Adj Close</th>\n",
       "      <th>Volume</th>\n",
       "    </tr>\n",
       "  </thead>\n",
       "  <tbody>\n",
       "    <tr>\n",
       "      <th>0</th>\n",
       "      <td>2018-11-16</td>\n",
       "      <td>23.012667</td>\n",
       "      <td>23.713333</td>\n",
       "      <td>23.007999</td>\n",
       "      <td>23.620667</td>\n",
       "      <td>23.620667</td>\n",
       "      <td>108093000</td>\n",
       "    </tr>\n",
       "    <tr>\n",
       "      <th>1</th>\n",
       "      <td>2018-11-19</td>\n",
       "      <td>23.756001</td>\n",
       "      <td>24.450001</td>\n",
       "      <td>23.525333</td>\n",
       "      <td>23.564667</td>\n",
       "      <td>23.564667</td>\n",
       "      <td>145633500</td>\n",
       "    </tr>\n",
       "    <tr>\n",
       "      <th>2</th>\n",
       "      <td>2018-11-20</td>\n",
       "      <td>22.783333</td>\n",
       "      <td>23.320000</td>\n",
       "      <td>22.236668</td>\n",
       "      <td>23.166000</td>\n",
       "      <td>23.166000</td>\n",
       "      <td>120070500</td>\n",
       "    </tr>\n",
       "    <tr>\n",
       "      <th>3</th>\n",
       "      <td>2018-11-21</td>\n",
       "      <td>23.466667</td>\n",
       "      <td>23.540001</td>\n",
       "      <td>22.493334</td>\n",
       "      <td>22.546000</td>\n",
       "      <td>22.546000</td>\n",
       "      <td>70302000</td>\n",
       "    </tr>\n",
       "    <tr>\n",
       "      <th>4</th>\n",
       "      <td>2018-11-23</td>\n",
       "      <td>22.290001</td>\n",
       "      <td>22.500000</td>\n",
       "      <td>21.703333</td>\n",
       "      <td>21.722000</td>\n",
       "      <td>21.722000</td>\n",
       "      <td>63039000</td>\n",
       "    </tr>\n",
       "  </tbody>\n",
       "</table>\n",
       "</div>"
      ],
      "text/plain": [
       "         Date       Open       High        Low      Close  Adj Close  \\\n",
       "0  2018-11-16  23.012667  23.713333  23.007999  23.620667  23.620667   \n",
       "1  2018-11-19  23.756001  24.450001  23.525333  23.564667  23.564667   \n",
       "2  2018-11-20  22.783333  23.320000  22.236668  23.166000  23.166000   \n",
       "3  2018-11-21  23.466667  23.540001  22.493334  22.546000  22.546000   \n",
       "4  2018-11-23  22.290001  22.500000  21.703333  21.722000  21.722000   \n",
       "\n",
       "      Volume  \n",
       "0  108093000  \n",
       "1  145633500  \n",
       "2  120070500  \n",
       "3   70302000  \n",
       "4   63039000  "
      ]
     },
     "execution_count": 1,
     "metadata": {},
     "output_type": "execute_result"
    }
   ],
   "source": [
    "import numpy as np # linear algebra\n",
    "import pandas as pd # data processing, CSV file I/O (e.g. pd.read_csv)\n",
    "\n",
    "import warnings\n",
    "warnings.filterwarnings('ignore')\n",
    "\n",
    "\n",
    "df1=pd.read_csv('TSLA.csv')\n",
    "df1.head()\n"
   ]
  },
  {
   "cell_type": "code",
   "execution_count": 2,
   "id": "442c50b6",
   "metadata": {},
   "outputs": [
    {
     "data": {
      "text/html": [
       "<div>\n",
       "<style scoped>\n",
       "    .dataframe tbody tr th:only-of-type {\n",
       "        vertical-align: middle;\n",
       "    }\n",
       "\n",
       "    .dataframe tbody tr th {\n",
       "        vertical-align: top;\n",
       "    }\n",
       "\n",
       "    .dataframe thead th {\n",
       "        text-align: right;\n",
       "    }\n",
       "</style>\n",
       "<table border=\"1\" class=\"dataframe\">\n",
       "  <thead>\n",
       "    <tr style=\"text-align: right;\">\n",
       "      <th></th>\n",
       "      <th>Open</th>\n",
       "      <th>High</th>\n",
       "      <th>Low</th>\n",
       "      <th>Close</th>\n",
       "      <th>Adj Close</th>\n",
       "      <th>Volume</th>\n",
       "    </tr>\n",
       "  </thead>\n",
       "  <tbody>\n",
       "    <tr>\n",
       "      <th>count</th>\n",
       "      <td>1257.000000</td>\n",
       "      <td>1257.000000</td>\n",
       "      <td>1257.000000</td>\n",
       "      <td>1257.000000</td>\n",
       "      <td>1257.000000</td>\n",
       "      <td>1.257000e+03</td>\n",
       "    </tr>\n",
       "    <tr>\n",
       "      <th>mean</th>\n",
       "      <td>165.779521</td>\n",
       "      <td>169.553481</td>\n",
       "      <td>161.701684</td>\n",
       "      <td>165.726407</td>\n",
       "      <td>165.726407</td>\n",
       "      <td>1.338320e+08</td>\n",
       "    </tr>\n",
       "    <tr>\n",
       "      <th>std</th>\n",
       "      <td>110.094492</td>\n",
       "      <td>112.489298</td>\n",
       "      <td>107.391088</td>\n",
       "      <td>109.946193</td>\n",
       "      <td>109.946193</td>\n",
       "      <td>8.559685e+07</td>\n",
       "    </tr>\n",
       "    <tr>\n",
       "      <th>min</th>\n",
       "      <td>12.073333</td>\n",
       "      <td>12.445333</td>\n",
       "      <td>11.799333</td>\n",
       "      <td>11.931333</td>\n",
       "      <td>11.931333</td>\n",
       "      <td>2.940180e+07</td>\n",
       "    </tr>\n",
       "    <tr>\n",
       "      <th>25%</th>\n",
       "      <td>37.616669</td>\n",
       "      <td>38.345333</td>\n",
       "      <td>36.416668</td>\n",
       "      <td>37.369999</td>\n",
       "      <td>37.369999</td>\n",
       "      <td>7.965720e+07</td>\n",
       "    </tr>\n",
       "    <tr>\n",
       "      <th>50%</th>\n",
       "      <td>193.720001</td>\n",
       "      <td>198.169998</td>\n",
       "      <td>188.779999</td>\n",
       "      <td>193.809998</td>\n",
       "      <td>193.809998</td>\n",
       "      <td>1.090935e+08</td>\n",
       "    </tr>\n",
       "    <tr>\n",
       "      <th>75%</th>\n",
       "      <td>250.050003</td>\n",
       "      <td>254.979996</td>\n",
       "      <td>244.449997</td>\n",
       "      <td>250.973328</td>\n",
       "      <td>250.973328</td>\n",
       "      <td>1.586991e+08</td>\n",
       "    </tr>\n",
       "    <tr>\n",
       "      <th>max</th>\n",
       "      <td>411.470001</td>\n",
       "      <td>414.496674</td>\n",
       "      <td>405.666656</td>\n",
       "      <td>409.970001</td>\n",
       "      <td>409.970001</td>\n",
       "      <td>9.140820e+08</td>\n",
       "    </tr>\n",
       "  </tbody>\n",
       "</table>\n",
       "</div>"
      ],
      "text/plain": [
       "              Open         High          Low        Close    Adj Close  \\\n",
       "count  1257.000000  1257.000000  1257.000000  1257.000000  1257.000000   \n",
       "mean    165.779521   169.553481   161.701684   165.726407   165.726407   \n",
       "std     110.094492   112.489298   107.391088   109.946193   109.946193   \n",
       "min      12.073333    12.445333    11.799333    11.931333    11.931333   \n",
       "25%      37.616669    38.345333    36.416668    37.369999    37.369999   \n",
       "50%     193.720001   198.169998   188.779999   193.809998   193.809998   \n",
       "75%     250.050003   254.979996   244.449997   250.973328   250.973328   \n",
       "max     411.470001   414.496674   405.666656   409.970001   409.970001   \n",
       "\n",
       "             Volume  \n",
       "count  1.257000e+03  \n",
       "mean   1.338320e+08  \n",
       "std    8.559685e+07  \n",
       "min    2.940180e+07  \n",
       "25%    7.965720e+07  \n",
       "50%    1.090935e+08  \n",
       "75%    1.586991e+08  \n",
       "max    9.140820e+08  "
      ]
     },
     "execution_count": 2,
     "metadata": {},
     "output_type": "execute_result"
    }
   ],
   "source": [
    "df1.describe()\n"
   ]
  },
  {
   "cell_type": "code",
   "execution_count": 9,
   "id": "8f56b063",
   "metadata": {},
   "outputs": [
    {
     "data": {
      "text/plain": [
       "Open               193.7\n",
       "High               198.2\n",
       "Low                188.8\n",
       "Close              193.8\n",
       "Adj Close          193.8\n",
       "Volume       109093500.0\n",
       "dtype: float64"
      ]
     },
     "execution_count": 9,
     "metadata": {},
     "output_type": "execute_result"
    }
   ],
   "source": [
    "np.round(df1.median(),2)"
   ]
  },
  {
   "cell_type": "code",
   "execution_count": 10,
   "id": "f68d229c",
   "metadata": {},
   "outputs": [],
   "source": [
    "df1['Date']=pd.to_datetime(df1['Date'])"
   ]
  },
  {
   "cell_type": "code",
   "execution_count": 11,
   "id": "919e5409",
   "metadata": {},
   "outputs": [
    {
     "name": "stdout",
     "output_type": "stream",
     "text": [
      "Minimum date value : 2018-11-16 00:00:00\n",
      "Maximum date value : 2023-11-15 00:00:00\n"
     ]
    }
   ],
   "source": [
    "print(\"Minimum date value : {}\".format(df1['Date'].min()))\n",
    "print(\"Maximum date value : {}\".format(df1['Date'].max()))"
   ]
  },
  {
   "cell_type": "code",
   "execution_count": 12,
   "id": "5a9413b0",
   "metadata": {},
   "outputs": [
    {
     "ename": "ImportError",
     "evalue": "cannot import name 'cbook' from partially initialized module 'matplotlib' (most likely due to a circular import) (C:\\Users\\migue\\anaconda3\\envs\\dev\\lib\\site-packages\\matplotlib\\__init__.py)",
     "output_type": "error",
     "traceback": [
      "\u001b[1;31m---------------------------------------------------------------------------\u001b[0m",
      "\u001b[1;31mImportError\u001b[0m                               Traceback (most recent call last)",
      "Cell \u001b[1;32mIn[12], line 2\u001b[0m\n\u001b[0;32m      1\u001b[0m \u001b[38;5;66;03m#importing ploting libraries\u001b[39;00m\n\u001b[1;32m----> 2\u001b[0m \u001b[38;5;28;01mimport\u001b[39;00m \u001b[38;5;21;01mmatplotlib\u001b[39;00m\u001b[38;5;21;01m.\u001b[39;00m\u001b[38;5;21;01mpyplot\u001b[39;00m \u001b[38;5;28;01mas\u001b[39;00m \u001b[38;5;21;01mplt\u001b[39;00m\n\u001b[0;32m      3\u001b[0m \u001b[38;5;28;01mimport\u001b[39;00m \u001b[38;5;21;01mmatplotlib\u001b[39;00m\u001b[38;5;21;01m.\u001b[39;00m\u001b[38;5;21;01mdates\u001b[39;00m \u001b[38;5;28;01mas\u001b[39;00m \u001b[38;5;21;01mmdates\u001b[39;00m\n\u001b[0;32m      4\u001b[0m \u001b[38;5;28;01mimport\u001b[39;00m \u001b[38;5;21;01mseaborn\u001b[39;00m \u001b[38;5;28;01mas\u001b[39;00m \u001b[38;5;21;01msns\u001b[39;00m\n",
      "File \u001b[1;32m~\\anaconda3\\envs\\dev\\lib\\site-packages\\matplotlib\\__init__.py:161\u001b[0m\n\u001b[0;32m    157\u001b[0m \u001b[38;5;28;01mfrom\u001b[39;00m \u001b[38;5;21;01mpackaging\u001b[39;00m\u001b[38;5;21;01m.\u001b[39;00m\u001b[38;5;21;01mversion\u001b[39;00m \u001b[38;5;28;01mimport\u001b[39;00m parse \u001b[38;5;28;01mas\u001b[39;00m parse_version\n\u001b[0;32m    159\u001b[0m \u001b[38;5;66;03m# cbook must import matplotlib only within function\u001b[39;00m\n\u001b[0;32m    160\u001b[0m \u001b[38;5;66;03m# definitions, so it is safe to import from it here.\u001b[39;00m\n\u001b[1;32m--> 161\u001b[0m \u001b[38;5;28;01mfrom\u001b[39;00m \u001b[38;5;21;01m.\u001b[39;00m \u001b[38;5;28;01mimport\u001b[39;00m _api, _version, cbook, _docstring, rcsetup\n\u001b[0;32m    162\u001b[0m \u001b[38;5;28;01mfrom\u001b[39;00m \u001b[38;5;21;01mmatplotlib\u001b[39;00m\u001b[38;5;21;01m.\u001b[39;00m\u001b[38;5;21;01mcbook\u001b[39;00m \u001b[38;5;28;01mimport\u001b[39;00m sanitize_sequence\n\u001b[0;32m    163\u001b[0m \u001b[38;5;28;01mfrom\u001b[39;00m \u001b[38;5;21;01mmatplotlib\u001b[39;00m\u001b[38;5;21;01m.\u001b[39;00m\u001b[38;5;21;01m_api\u001b[39;00m \u001b[38;5;28;01mimport\u001b[39;00m MatplotlibDeprecationWarning\n",
      "File \u001b[1;32m~\\anaconda3\\envs\\dev\\lib\\site-packages\\matplotlib\\rcsetup.py:25\u001b[0m\n\u001b[0;32m     21\u001b[0m \u001b[38;5;28;01mimport\u001b[39;00m \u001b[38;5;21;01mre\u001b[39;00m\n\u001b[0;32m     23\u001b[0m \u001b[38;5;28;01mimport\u001b[39;00m \u001b[38;5;21;01mnumpy\u001b[39;00m \u001b[38;5;28;01mas\u001b[39;00m \u001b[38;5;21;01mnp\u001b[39;00m\n\u001b[1;32m---> 25\u001b[0m \u001b[38;5;28;01mfrom\u001b[39;00m \u001b[38;5;21;01mmatplotlib\u001b[39;00m \u001b[38;5;28;01mimport\u001b[39;00m _api, cbook\n\u001b[0;32m     26\u001b[0m \u001b[38;5;28;01mfrom\u001b[39;00m \u001b[38;5;21;01mmatplotlib\u001b[39;00m\u001b[38;5;21;01m.\u001b[39;00m\u001b[38;5;21;01mcbook\u001b[39;00m \u001b[38;5;28;01mimport\u001b[39;00m ls_mapper\n\u001b[0;32m     27\u001b[0m \u001b[38;5;28;01mfrom\u001b[39;00m \u001b[38;5;21;01mmatplotlib\u001b[39;00m\u001b[38;5;21;01m.\u001b[39;00m\u001b[38;5;21;01mcolors\u001b[39;00m \u001b[38;5;28;01mimport\u001b[39;00m Colormap, is_color_like\n",
      "\u001b[1;31mImportError\u001b[0m: cannot import name 'cbook' from partially initialized module 'matplotlib' (most likely due to a circular import) (C:\\Users\\migue\\anaconda3\\envs\\dev\\lib\\site-packages\\matplotlib\\__init__.py)"
     ]
    }
   ],
   "source": [
    "#importing ploting libraries\n",
    "import matplotlib.pyplot as plt\n",
    "import matplotlib.dates as mdates\n",
    "import seaborn as sns\n",
    "colors = ['#FF9900','#000000']\n",
    "sns.set(palette=colors, font='Serif', style='white', rc={'axes.facecolor':'whitesmoke', 'figure.facecolor':'whitesmoke'})\n",
    "sns.palplot(colors, size=2)"
   ]
  },
  {
   "cell_type": "code",
   "execution_count": null,
   "id": "ace11832",
   "metadata": {},
   "outputs": [],
   "source": [
    "fig=plt.figure(figsize=(20,8))\n",
    "ax=sns.lineplot(data=df1, x='Date',y='Open')\n",
    "ax=sns.lineplot(data=df1, x='Date',y='Close', color=colors[1]);\n",
    "for s in ['left','right','top','bottom']:\n",
    "    ax.spines[s].set_visible(False)\n",
    "\n",
    "plt.title(\"TESLA Stock value changes since 2010\", size=20, weight='bold')"
   ]
  },
  {
   "cell_type": "code",
   "execution_count": null,
   "id": "618ec7b8",
   "metadata": {},
   "outputs": [],
   "source": [
    "fig=plt.figure(figsize=(20,8))\n",
    "ax=sns.lineplot(data=df1, x='Date',y='Volume')\n",
    "#ax=sns.lineplot(data=df1, x='date',y='close', color=colors[1]);\n",
    "for s in ['left','right','top','bottom']:\n",
    "    ax.spines[s].set_visible(False)\n",
    "plt.title(\"Tesla Stock volume\", size=20, weight='bold')"
   ]
  },
  {
   "cell_type": "code",
   "execution_count": null,
   "id": "8cf7af72",
   "metadata": {},
   "outputs": [],
   "source": [
    "#integer columns\n",
    "fig=plt.figure(figsize=(20,8), tight_layout=True)\n",
    "plt.suptitle(\"Analysing the Numeric variables\", size=20, weight='bold')\n",
    "ax=fig.subplot_mosaic(\"\"\"AB\n",
    "                         CC\n",
    "                         DE\"\"\")\n",
    "sns.kdeplot(df1['High'], ax=ax['A'], color=colors[0], fill=True, linewidth=2)\n",
    "sns.kdeplot(df1['Low'], ax=ax['B'], color=colors[1],fill=True, linewidth=2)\n",
    "sns.kdeplot(df1['Open'], ax=ax['C'], color=colors[0],fill=True, linewidth=2)\n",
    "sns.kdeplot(df1['Close'], ax=ax['D'], color=colors[1],fill=True, linewidth=2)\n",
    "sns.kdeplot(df1['Volume'], ax=ax['E'], color=colors[0],fill=True, linewidth=2)\n",
    "ax['B'].yaxis.set_visible(False)\n",
    "ax['E'].yaxis.set_visible(False)\n",
    "ax['A'].yaxis.label.set_alpha(0.5)\n",
    "ax['C'].yaxis.label.set_alpha(0.5)\n",
    "ax['A'].yaxis.label.set_alpha(0.5)\n",
    "ax['C'].yaxis.label.set_alpha(0.5)\n",
    "ax['D'].yaxis.label.set_alpha(0.5)\n",
    "for s in ['left','right','top','bottom']:\n",
    "    ax['A'].spines[s].set_visible(False)\n",
    "    ax['B'].spines[s].set_visible(False)\n",
    "    ax['C'].spines[s].set_visible(False)\n",
    "    ax['D'].spines[s].set_visible(False)\n",
    "    ax['E'].spines[s].set_visible(False)"
   ]
  },
  {
   "cell_type": "code",
   "execution_count": null,
   "id": "c4626df8",
   "metadata": {},
   "outputs": [],
   "source": [
    "#integer columns\n",
    "fig=plt.figure(figsize=(20,8), tight_layout=True)\n",
    "plt.suptitle(\"Boxplot the Numeric variables\", size=20, weight='bold')\n",
    "ax=fig.subplot_mosaic(\"\"\"AB\n",
    "                         CC\n",
    "                         DE\"\"\")\n",
    "sns.boxplot(df1['High'], ax=ax['A'], color=colors[0])\n",
    "sns.boxplot(df1['Low'], ax=ax['B'], color=colors[1])\n",
    "sns.boxplot(df1['Open'], ax=ax['C'], color=colors[0])\n",
    "sns.boxplot(df1['Close'], ax=ax['D'], color=colors[1])\n",
    "sns.boxplot(df1['Volume'], ax=ax['E'], color=colors[1])\n",
    "ax['B'].yaxis.set_visible(False)\n",
    "ax['E'].yaxis.set_visible(False)\n",
    "ax['A'].yaxis.label.set_alpha(0.5)\n",
    "ax['C'].yaxis.label.set_alpha(0.5)\n",
    "ax['A'].yaxis.label.set_alpha(0.5)\n",
    "ax['C'].yaxis.label.set_alpha(0.5)\n",
    "ax['D'].yaxis.label.set_alpha(0.5)\n",
    "for s in ['left','right','top','bottom']:\n",
    "    ax['A'].spines[s].set_visible(False)\n",
    "    ax['B'].spines[s].set_visible(False)\n",
    "    ax['C'].spines[s].set_visible(False)\n",
    "    ax['D'].spines[s].set_visible(False)\n",
    "    ax['E'].spines[s].set_visible(False)"
   ]
  },
  {
   "cell_type": "code",
   "execution_count": null,
   "id": "ed794b49",
   "metadata": {},
   "outputs": [],
   "source": [
    "# we need to predict the closing price of the stock, lets us consider 'Close' feature as the Target variable. \n",
    "sns.pairplot(df1,corner=True)"
   ]
  },
  {
   "cell_type": "code",
   "execution_count": null,
   "id": "b0c9a617",
   "metadata": {},
   "outputs": [],
   "source": [
    "df1.corr()['Close']"
   ]
  },
  {
   "cell_type": "code",
   "execution_count": null,
   "id": "5bcaaa00",
   "metadata": {},
   "outputs": [],
   "source": [
    "df1.info()"
   ]
  },
  {
   "cell_type": "code",
   "execution_count": null,
   "id": "b2a7c5a2",
   "metadata": {},
   "outputs": [],
   "source": [
    "from scipy.stats import shapiro\n",
    "import matplotlib.pyplot as plt\n",
    "import seaborn as sns\n",
    "\n",
    "int_cols = df1.select_dtypes(include=['int', 'float']).columns.to_list()\n",
    "\n",
    "for i in int_cols:\n",
    "    _, p_value = shapiro(df1[i])\n",
    "    if p_value < 0.05:\n",
    "        print(\"Feature {} is normally distributed\".format(i))\n",
    "    else:\n",
    "        print(\"Feature {} is not normally distributed\".format(i))\n",
    "        \n",
    "    print(\"Normality test p-value for feature - {} is {}\".format(i, round(p_value, 3)))"
   ]
  },
  {
   "cell_type": "code",
   "execution_count": null,
   "id": "420a7c67",
   "metadata": {},
   "outputs": [],
   "source": [
    "fig=plt.figure(figsize=(15,8))\n",
    "sns.heatmap(df1.corr(), annot=True, cmap=[colors[0],colors[1]], linecolor='white', linewidth=2 )"
   ]
  },
  {
   "cell_type": "code",
   "execution_count": null,
   "id": "0b2854d4",
   "metadata": {},
   "outputs": [],
   "source": [
    "X=df1[['Volume','Open']]\n",
    "y=df1['Close']\n",
    "from sklearn.model_selection import train_test_split\n",
    "X_train, X_test, y_train, y_test = train_test_split(X,y, test_size=0.3, shuffle=False, random_state=42)"
   ]
  },
  {
   "cell_type": "code",
   "execution_count": null,
   "id": "522b9571-9a5b-47b6-a276-83d0b9f6afe1",
   "metadata": {},
   "outputs": [],
   "source": [
    "pip install --upgrade seaborn matplotlib\n"
   ]
  },
  {
   "cell_type": "code",
   "execution_count": null,
   "id": "f762e3f4",
   "metadata": {},
   "outputs": [],
   "source": [
    "from sklearn.preprocessing import StandardScaler\n",
    "scaler = StandardScaler()\n",
    "X_train = scaler.fit_transform(X_train)\n",
    "X_test =scaler.transform(X_test)"
   ]
  },
  {
   "cell_type": "code",
   "execution_count": null,
   "id": "10326628",
   "metadata": {},
   "outputs": [],
   "source": [
    "from sklearn.linear_model import LinearRegression\n",
    "from sklearn.metrics import r2_score, mean_squared_error, mean_absolute_error\n",
    "from sklearn import set_config\n",
    "model = LinearRegression()\n",
    "model.fit(X_train,y_train)\n",
    "set_config(display='diagram')\n",
    "pred=model.predict(X_test)\n",
    "sc=np.round(model.score(X_test, y_test),2) * 100\n",
    "r2=np.round(r2_score(y_test,pred),2)\n",
    "mse=np.round(mean_squared_error(y_test,pred),2)\n",
    "mae=np.round(mean_squared_error(y_test,pred),2)"
   ]
  },
  {
   "cell_type": "code",
   "execution_count": null,
   "id": "6773afb4",
   "metadata": {},
   "outputs": [],
   "source": [
    "fig = plt.figure(figsize=(15, 8))\n",
    "p = pd.Series(pred, index=y_test.index)\n",
    "plt.plot(y_test)\n",
    "plt.plot(p)\n",
    "plt.legend(['y_test', 'predicted'])\n",
    "plt.title(\"Compare test and predicted values\", size=20, weight='bold')\n",
    "plt.text(x=800000, y=600, s='Accuracy score : {} %'.format(sc))\n",
    "plt.text(x=800000, y=580, s='R2 Score : {}'.format(r2))\n",
    "plt.text(x=800000, y=560, s='Mean Squared error : {}'.format(mse))\n",
    "plt.text(x=800000, y=540, s='Mean Absolute error : {}'.format(mae))\n",
    "\n",
    "# Save the figure to a file without displaying it\n",
    "plt.savefig('plot.png')\n",
    "\n",
    "# Close the figure to prevent it from being displayed\n",
    "plt.close()\n"
   ]
  },
  {
   "cell_type": "code",
   "execution_count": null,
   "id": "65e1f42d",
   "metadata": {},
   "outputs": [],
   "source": [
    "X=df1[['Open','High']]\n",
    "y=df1['Close']\n",
    "length=100\n",
    "#from sklearn.model_selection import train_test_split\n",
    "#X_train, X_test, y_train, y_test = train_test_split(X,y, test_size=0.2, shuffle=False, random_state=42)\n",
    "training_set = X.iloc[:1000].values\n",
    "test_set = X.iloc[1000:].values\n",
    "# Feature Scaling\n",
    "from sklearn.preprocessing import MinMaxScaler\n",
    "sc = MinMaxScaler(feature_range = (0, 1))\n",
    "training_set_scaled = sc.fit_transform(training_set)\n",
    "test_set_scaled=sc.transform(test_set)\n",
    "# Creating a data structure with 60 time-steps and 1 output\n",
    "X_train = []\n",
    "y_train = []\n",
    "for i in range(length, len(training_set)):\n",
    "    X_train.append(training_set_scaled[i-length:i, 0])\n",
    "    y_train.append(training_set_scaled[i, 0])\n",
    "X_train, y_train = np.array(X_train), np.array(y_train)\n",
    "X_train = np.reshape(X_train, (X_train.shape[0], X_train.shape[1], 1))\n",
    "\n",
    "X_test = []\n",
    "y_test = []\n",
    "for i in range(length, len(test_set)):\n",
    "    X_test.append(test_set_scaled[i-length:i, 0])\n",
    "    y_test.append(test_set_scaled[i, 0])\n",
    "X_test, y_test = np.array(X_test), np.array(y_test)\n",
    "X_test = np.reshape(X_test, (X_test.shape[0], X_test.shape[1], 1))"
   ]
  },
  {
   "cell_type": "code",
   "execution_count": null,
   "id": "0ff87d79",
   "metadata": {},
   "outputs": [],
   "source": [
    "from tensorflow.keras.models import Sequential\n",
    "from tensorflow.keras.layers import Dense, LSTM, Dropout\n",
    "model = Sequential()\n",
    "#Adding the first LSTM layer and some Dropout regularisation\n",
    "model.add(LSTM(units = 50, return_sequences = True, input_shape = (X_train.shape[1], 1)))\n",
    "model.add(Dropout(0.2))\n",
    "# Adding a second LSTM layer and some Dropout regularisation\n",
    "model.add(LSTM(units = 50, return_sequences = True))\n",
    "model.add(Dropout(0.2))\n",
    "# Adding a third LSTM layer and some Dropout regularisation\n",
    "model.add(LSTM(units = 50, return_sequences = True))\n",
    "model.add(Dropout(0.2))\n",
    "# Adding a fourth LSTM layer and some Dropout regularisation\n",
    "model.add(LSTM(units = 50))\n",
    "model.add(Dropout(0.2))\n",
    "# Adding the output layer\n",
    "model.add(Dense(units = 1))\n",
    "\n",
    "# Compiling the RNN\n",
    "model.compile(optimizer = 'adam', loss = 'mean_squared_error')\n",
    "\n",
    "# Fitting the RNN to the Training set\n",
    "model.fit(X_train, y_train, validation_data=(X_test,y_test),epochs = 100, batch_size = 32)"
   ]
  },
  {
   "cell_type": "code",
   "execution_count": null,
   "id": "b62cd22d",
   "metadata": {},
   "outputs": [],
   "source": [
    "loss = pd.DataFrame(model.history.history)\n",
    "fig=plt.figure(figsize=(15,8))\n",
    "plt.title(\"Validation loss Vs Trainiinverse_transformss\", size=20, weight='bold')\n",
    "plt.plot(loss)"
   ]
  },
  {
   "cell_type": "code",
   "execution_count": null,
   "id": "dd1a7f26",
   "metadata": {},
   "outputs": [],
   "source": [
    "pred=model.predict(X_test)\n",
    "test=pd.DataFrame(columns=['test','pred'])\n",
    "test['test']=y_test\n",
    "test['pred']=pred.flatten()\n",
    "test"
   ]
  },
  {
   "cell_type": "code",
   "execution_count": null,
   "id": "46d8a050",
   "metadata": {},
   "outputs": [],
   "source": [
    "fig=plt.figure(figsize=(20,8))\n",
    "plt.title(\"Test vs Predicted value\", size=20, weight='bold')\n",
    "plt.plot(test)\n",
    "plt.legend(['test','predict'])\n",
    "r2=np.round(r2_score(y_test,pred),2)\n",
    "mse=np.round(mean_squared_error(y_test,pred),2)\n",
    "mae=np.round(mean_squared_error(y_test,pred),2)\n",
    "plt.text(x=500, y=1.5,s='R2 Score : {}'.format(r2))\n",
    "plt.text(x=500, y=1.35,s='Mean Squared error : {}'.format(mse))\n",
    "plt.text(x=500, y=1.25,s='Mean Absolute error : {}'.format(mae))"
   ]
  },
  {
   "cell_type": "code",
   "execution_count": null,
   "id": "dd73254e",
   "metadata": {},
   "outputs": [],
   "source": [
    "from fbprophet import Prophet\n",
    "df_p = df1[['date','close']]\n",
    "df_p.columns=['ds','y']\n",
    "\n",
    "split_data = df_p.index.max()-100000\n",
    "train = df_p.loc[df_p.index<=split_data].copy()\n",
    "test=df_p.loc[df_p.index>split_data].copy()\n",
    "train.set_index('ds',inplace=True)\n",
    "test.set_index('ds',inplace=True)\n",
    "train.reset_index(inplace=True)\n",
    "test.reset_index(inplace=True)\n",
    "\n",
    "#Model creation\n",
    "model=Prophet()\n",
    "model.fit(train)\n",
    "\n",
    "#model prediction\n",
    "pred=model.predict(test)"
   ]
  },
  {
   "cell_type": "code",
   "execution_count": null,
   "id": "0de83194",
   "metadata": {},
   "outputs": [],
   "source": [
    "!pip install cython\n",
    "\n",
    "!pip install pystan==2.19.1.1\n",
    "!pip install fbprophet\n"
   ]
  },
  {
   "cell_type": "code",
   "execution_count": null,
   "id": "71fed0a1",
   "metadata": {},
   "outputs": [],
   "source": [
    "test_pred=pd.DataFrame(columns=['ds','test','predict','pred_lower','pred_high'], index=test.index)\n",
    "test_pred['test']=test['y']\n",
    "test_pred['ds']=test['ds']\n",
    "test_pred['predict']=pred['yhat']\n",
    "test_pred['pred_lower']=pred['yhat_lower']\n",
    "test_pred['pred_high']=pred['yhat_upper']\n"
   ]
  }
 ],
 "metadata": {
  "kernelspec": {
   "display_name": "Python 3 (ipykernel)",
   "language": "python",
   "name": "python3"
  },
  "language_info": {
   "codemirror_mode": {
    "name": "ipython",
    "version": 3
   },
   "file_extension": ".py",
   "mimetype": "text/x-python",
   "name": "python",
   "nbconvert_exporter": "python",
   "pygments_lexer": "ipython3",
   "version": "3.10.12"
  }
 },
 "nbformat": 4,
 "nbformat_minor": 5
}
